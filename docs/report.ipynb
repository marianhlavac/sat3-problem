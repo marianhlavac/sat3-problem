{
 "cells": [
  {
   "cell_type": "markdown",
   "metadata": {},
   "source": [
    "# MI-PAA, Úloha 5: Řešení problému vážené splnitelnosti booleovské formule pokročilou iterativní metodou\n",
    "\n",
    "**Marián Hlaváč**, 12 Jan 2017 (hlavam30)\n",
    "marian.hlavac@fit.cvut.cz\n",
    "https://github.com/mmajko/sat3-problem\n",
    "\n",
    "## Zadání \n",
    "\n",
    "Problém řešte některou z pokročilých lokálních heuristik (simulované ochlazování, genetické algoritmy, tabu prohledávání). Řešení jinými metodami prosím zkonzultovat se cvičícím nebo přednášejícím. Volby konkrétních parametrů heuristiky a jejích detailů (operace nad stavovým prostorem, kritérium ukončení, atd. atd.) proveďte sami, tyto volby pokud možno zdůvodněte a ověřte experimentálním vyhodnocením.\n",
    "\n",
    "## Přehled postupu řešení\n",
    "\n",
    "Podle minulé úlohy volím jako lokální heuristiku **genetický algoritmus**. Algoritmus jsem v minulé úloze napsal jako znovupoužitelný kód a je tak snadné vyměnit problém, který bude řešit. O vlastnostech algoritmu se zmiňuji v sekci [Znovupoužitelný kód z minulé úlohy](#Znovupoužitelný-kód-z-minulé-úlohy).\n",
    "\n",
    "Řešit celou pátou úlohu jsem se rozhodl systematicky ve čtyřech krocích: Znovupoužít kód pro GA z minulé úlohy, následně dopsat podpůrné metody a struktury pro řešení SAT problému, ve třetím kroku napsaný kód spustím a odhalím chyby a neúspěch a v posledním kroku se pokusím do co největší míry neúspěchů zbavit. A na závěr samozřejmě prezentovat výsledky v podobě této zprávy.\n",
    "\n",
    "## Postup řešení\n",
    "\n",
    "Algoritmus a celý program poskytující výsledky je napsán v jazyce Rust. Tento program načte instance z předpřipravených datových souborů určených pro tuto úlohu a vypočte řešení. Zapíše výsledky a délky provádění výpočtů a všechna data poskytne v CSV formátu.\n",
    "\n",
    "Druhým nástrojem je pak Jupyter Notebook, ve kterém se poskytnutá data zpracují a vizualizují.\n",
    "\n",
    "### Algoritmus a zdrojový kód\n",
    "\n",
    "Kompletně celý algoritmus je k nahlédnutí ve zdrojových souborech programu, které lze nalézt na GitHub stránce úlohy. Odkaz na repozitář je uveden v hlavičce zprávy.\n",
    "\n",
    "### Čtení DIMACS formátu\n",
    "\n",
    "### Rozšíření DIMACS na vlastní WDIMACS\n",
    "\n",
    "### Znovupoužitelný kód z minulé úlohy\n",
    "\n",
    "closures, příklady\n",
    "\n",
    "### Omezující podmínky\n",
    "\n",
    "## Volba parametrů evoluce\n",
    "\n",
    "## Výsledky evoluce\n",
    "\n",
    "## Problémy\n",
    "\n",
    "## Měření a experimenty\n",
    "\n",
    "\n",
    "\n",
    "## Finální výsledky\n",
    "\n",
    "## Závěr\n"
   ]
  }
 ],
 "metadata": {
  "kernelspec": {
   "display_name": "Python 3",
   "language": "python",
   "name": "python3"
  },
  "language_info": {
   "codemirror_mode": {
    "name": "ipython",
    "version": 3
   },
   "file_extension": ".py",
   "mimetype": "text/x-python",
   "name": "python",
   "nbconvert_exporter": "python",
   "pygments_lexer": "ipython3",
   "version": "3.6.3"
  }
 },
 "nbformat": 4,
 "nbformat_minor": 2
}
